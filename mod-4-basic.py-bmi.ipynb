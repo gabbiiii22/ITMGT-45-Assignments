{
 "cells": [
  {
   "cell_type": "markdown",
   "id": "77172107-a226-449e-a0d0-7a16323cf3a0",
   "metadata": {},
   "source": [
    "def body_mass_index(weight, height):\n",
    "    '''Body Mass Index.\n",
    "    3 points.\n",
    "    This function calculates the body mass index (BMI) of a person\n",
    "        given their weight and height.\n",
    "    The formula for BMI is: kg / (m ^ 2)\n",
    "        (i.e., kilograms over meters squared)\n",
    "    Unfortunately, the users of this function use the imperial system.\n",
    "        You will need to first convert their arguments to the metric system.\n",
    "    \n",
    "    Parameters\n",
    "    ----------\n",
    "    weight: float\n",
    "        the weight of the person, in pounds\n",
    "    height: list\n",
    "        the height of the person, expressed as a list of two integers.\n",
    "        the first integer is the foot component of their height.\n",
    "        the second integer is the inches component of their height.\n",
    "        for example, 5'10\" would be passed as [5, 10].\n",
    "    Returns\n",
    "    -------\n",
    "    float\n",
    "        the BMI of the person.\n",
    "    '''\n",
    "    # Replace `pass` with your code. \n",
    "    # Stay within the function. Only use the parameters as input. The function should return your answer.\n",
    "    pass"
   ]
  },
  {
   "cell_type": "code",
   "execution_count": 49,
   "id": "3bba2347-24a7-4c77-a216-b5f024c15ff8",
   "metadata": {},
   "outputs": [],
   "source": [
    "import math"
   ]
  },
  {
   "cell_type": "code",
   "execution_count": 50,
   "id": "6e119798-1174-4d93-ae43-8f2aa64c2763",
   "metadata": {},
   "outputs": [],
   "source": [
    "def body_mass_index(weight, height):\n",
    "    bmi = weight/(height**2)\n",
    "    return bmi"
   ]
  },
  {
   "cell_type": "code",
   "execution_count": 51,
   "id": "420369f0-f622-4a55-b060-a80de91e47b9",
   "metadata": {},
   "outputs": [
    {
     "name": "stdout",
     "output_type": "stream",
     "text": [
      "What is your weight in pounds?132\n",
      "What is your height in feet?5\n",
      "What is your height in inches?7\n",
      "20.717350412201377\n"
     ]
    }
   ],
   "source": [
    "imperial_weight = float(input(\"What is your weight in pounds?\" ))\n",
    "weight = imperial_weight/2.2\n",
    "imperial_height = [input(\"What is your height in feet?\"), int(input(\"What is your height in inches?\"))]\n",
    "height = ((int(imperial_height[0])*12)+int(imperial_height[1]))*2.54/100\n",
    "body_mass_index(weight, height)\n",
    "bmi = body_mass_index(weight, height)\n",
    "print(float(body_mass_index(weight, height)))"
   ]
  },
  {
   "cell_type": "code",
   "execution_count": null,
   "id": "d78d8cf1",
   "metadata": {},
   "outputs": [],
   "source": []
  },
  {
   "cell_type": "code",
   "execution_count": null,
   "id": "8ac028de",
   "metadata": {},
   "outputs": [],
   "source": []
  }
 ],
 "metadata": {
  "kernelspec": {
   "display_name": "Python 3 (ipykernel)",
   "language": "python",
   "name": "python3"
  },
  "language_info": {
   "codemirror_mode": {
    "name": "ipython",
    "version": 3
   },
   "file_extension": ".py",
   "mimetype": "text/x-python",
   "name": "python",
   "nbconvert_exporter": "python",
   "pygments_lexer": "ipython3",
   "version": "3.9.12"
  }
 },
 "nbformat": 4,
 "nbformat_minor": 5
}
