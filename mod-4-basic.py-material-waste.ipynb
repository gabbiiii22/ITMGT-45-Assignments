{
 "cells": [
  {
   "cell_type": "markdown",
   "id": "49617943-4253-4b7e-b170-1bccb29911fd",
   "metadata": {},
   "source": [
    "def material_waste(total_material, material_units, num_jobs, job_consumption):\n",
    "    '''Material Waste.\n",
    "    2 points.\n",
    "    This function calculates how much material input will be wasted\n",
    "        after running a certain number of jobs that consume\n",
    "        a set amount of material.\n",
    "    To get the waste of a set of jobs:\n",
    "        1. Multiply the number of jobs by the material consumption per job.\n",
    "        2. Subtract the total material consumed from the total material available.\n",
    "    The users of this function also want you to format the output as a string, annotated with the\n",
    "        units in which the material is expressed. Do not add a space between the number and the unit.\n",
    "    Parameters\n",
    "    ----------\n",
    "    total_material: int\n",
    "        the total material available\n",
    "    material_units: str\n",
    "        the units used to express a quantity of the material (e.g., \"kg\", \"L\", etc.)\n",
    "    num_jobs: int\n",
    "        the number of jobs to run\n",
    "    job_consumption: int\n",
    "        the amount of material consumed per job\n",
    "    Returns\n",
    "    -------\n",
    "    str\n",
    "        the amount of remaining material expressed with its unit (e.g., \"10kg\").\n",
    "    '''\n",
    "    # Replace `pass` with your code. \n",
    "    # Stay within the function. Only use the parameters as input. The function should return your answer.\n",
    "    pass"
   ]
  },
  {
   "cell_type": "code",
   "execution_count": 31,
   "id": "6e7eb733-862e-49b1-bd49-0dc308822d9a",
   "metadata": {},
   "outputs": [],
   "source": [
    "import math"
   ]
  },
  {
   "cell_type": "code",
   "execution_count": 32,
   "id": "01aba8bb-267b-46bf-9865-58520f42f8a8",
   "metadata": {},
   "outputs": [],
   "source": [
    "def material_waste(total_material, material_units, num_jobs, job_consumption):\n",
    "    waste = math.fabs((num_jobs*job_consumption) - total_material)\n",
    "    return waste"
   ]
  },
  {
   "cell_type": "code",
   "execution_count": 33,
   "id": "a273e8a7-41cd-4151-b157-c58f447f6a8f",
   "metadata": {},
   "outputs": [
    {
     "name": "stdout",
     "output_type": "stream",
     "text": [
      "How many jobs will you run? 3\n",
      "How much material will you consume per job? 100\n",
      "How much material do you have available? 500\n",
      "In what unit is your available material? (e.g. kg, lbs, etc.)kg\n",
      "The total material input wasted is 200kg\n"
     ]
    }
   ],
   "source": [
    "num_jobs = int(input(\"How many jobs will you run? \"))\n",
    "job_consumption = int(input(\"How much material will you consume per job? \"))\n",
    "total_material = int(input(\"How much material do you have available? \"))\n",
    "material_units = str(input(\"In what unit is your available material? (e.g. kg, lbs, etc.)\"))\n",
    "print(\"The total material input wasted is \",int(material_waste(total_material, material_units, num_jobs, job_consumption)),str(material_units),sep=\"\")"
   ]
  },
  {
   "cell_type": "code",
   "execution_count": null,
   "id": "9585bc2e-7360-4163-934a-075762c4db1e",
   "metadata": {},
   "outputs": [],
   "source": []
  }
 ],
 "metadata": {
  "kernelspec": {
   "display_name": "Python 3 (ipykernel)",
   "language": "python",
   "name": "python3"
  },
  "language_info": {
   "codemirror_mode": {
    "name": "ipython",
    "version": 3
   },
   "file_extension": ".py",
   "mimetype": "text/x-python",
   "name": "python",
   "nbconvert_exporter": "python",
   "pygments_lexer": "ipython3",
   "version": "3.9.12"
  }
 },
 "nbformat": 4,
 "nbformat_minor": 5
}
