{
 "cells": [
  {
   "cell_type": "markdown",
   "id": "b2f08704",
   "metadata": {},
   "source": [
    "Student Details\n",
    "ID Number: 216118\n",
    "Surname: Uy\n",
    "Year and Course: 2 BS ITE"
   ]
  },
  {
   "cell_type": "code",
   "execution_count": 11,
   "id": "a02d8650",
   "metadata": {},
   "outputs": [],
   "source": [
    "def three_number_average (firstnumber, secondnumber, thirdnumber):\n",
    "    average = ((firstnumber + secondnumber + thirdnumber)/3)\n",
    "    labelled = \"The average is \"+str(average)\n",
    "    return (labelled)"
   ]
  },
  {
   "cell_type": "code",
   "execution_count": 12,
   "id": "a47be734",
   "metadata": {},
   "outputs": [
    {
     "name": "stdout",
     "output_type": "stream",
     "text": [
      "Enter first number: 2\n",
      "Enter second number: 2\n",
      "Enter third number: 2\n"
     ]
    },
    {
     "data": {
      "text/plain": [
       "'The average is 2.0'"
      ]
     },
     "execution_count": 12,
     "metadata": {},
     "output_type": "execute_result"
    }
   ],
   "source": [
    "firstnumber = int(input(\"Enter first number: \"))\n",
    "secondnumber = int(input(\"Enter second number: \"))\n",
    "thirdnumber = int(input(\"Enter third number: \"))\n",
    "three_number_average (firstnumber, secondnumber, thirdnumber)"
   ]
  },
  {
   "cell_type": "code",
   "execution_count": null,
   "id": "90646527",
   "metadata": {},
   "outputs": [],
   "source": []
  }
 ],
 "metadata": {
  "kernelspec": {
   "display_name": "Python 3 (ipykernel)",
   "language": "python",
   "name": "python3"
  },
  "language_info": {
   "codemirror_mode": {
    "name": "ipython",
    "version": 3
   },
   "file_extension": ".py",
   "mimetype": "text/x-python",
   "name": "python",
   "nbconvert_exporter": "python",
   "pygments_lexer": "ipython3",
   "version": "3.9.13"
  }
 },
 "nbformat": 4,
 "nbformat_minor": 5
}
