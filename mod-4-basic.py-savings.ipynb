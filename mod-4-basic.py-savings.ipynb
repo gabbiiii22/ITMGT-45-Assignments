{
 "cells": [
  {
   "cell_type": "markdown",
   "id": "a35e7722-f894-44d7-81d9-7d9b42b0251a",
   "metadata": {},
   "source": [
    "def savings(gross_pay, tax_rate, expenses):\n",
    "    '''Savings.\n",
    "    2 points.\n",
    "    This function calculates the money remaining\n",
    "        for an employee after taxes and expenses.\n",
    "    \n",
    "    To get the take-home pay of an employee, we will\n",
    "        follow the following process:\n",
    "        1. Apply the tax rate to the gross pay of the employee; round down\n",
    "        2. Subtract the expenses from the after-tax pay of the employee\n",
    "    Parameters\n",
    "    ----------\n",
    "    gross_pay: int\n",
    "        the gross pay of an employee for a certain time period, expressed in centavos\n",
    "    tax_rate: float\n",
    "        the tax rate for a certain time period, expressed as a number between 0 and 1 (e.g., 0.12)\n",
    "    expenses: int\n",
    "        the expenses of an employee for a certain time period, expressed in centavos\n",
    "    Returns\n",
    "    -------\n",
    "    int\n",
    "        the number of centavos remaining from an employee's pay after taxes and expenses\n",
    "    '''\n",
    "    # Replace `pass` with your code. \n",
    "    # Stay within the function. Only use the parameters as input. The function should return your answer.\n",
    "    pass"
   ]
  },
  {
   "cell_type": "code",
   "execution_count": 9,
   "id": "c7246622-a76f-4022-8432-58dd5701d3a7",
   "metadata": {},
   "outputs": [],
   "source": [
    "import math"
   ]
  },
  {
   "cell_type": "code",
   "execution_count": 10,
   "id": "fb72141c-9d90-4a91-848e-576a723ebe57",
   "metadata": {},
   "outputs": [],
   "source": [
    "def savings(gross_pay, tax_rate, expenses):\n",
    "    earned = gross_pay - math.floor(gross_pay * tax_rate) - expenses\n",
    "    return earned"
   ]
  },
  {
   "cell_type": "code",
   "execution_count": 11,
   "id": "9f12857f-510e-4401-ae52-2cf5186ecd5e",
   "metadata": {},
   "outputs": [
    {
     "name": "stdout",
     "output_type": "stream",
     "text": [
      "How much did you get paid this month, in centavos? 1000\n",
      "How much tax will you pay this month, expressed as a number between 0 and 1 (e.g., 0.12) 0.12\n",
      "How much did you spend this month?, in centavos 100\n",
      "Your total returns for this month is 780\n"
     ]
    }
   ],
   "source": [
    "#ask for gross pay\n",
    "gross_pay = int(input(\"How much did you get paid this month, in centavos? \"))\n",
    "\n",
    "#ask for tax rate\n",
    "tax_rate = float(input(\"How much tax will you pay this month, expressed as a number between 0 and 1 (e.g., 0.12) \"))\n",
    "\n",
    "#ask for expenses\n",
    "expenses = int(input(\"How much did you spend this month?, in centavos \"))\n",
    "\n",
    "#compute for gross pay with tax and expenses\n",
    "earned = savings(gross_pay, tax_rate, expenses)\n",
    "\n",
    "#display the total\n",
    "print(\"Your total returns for this month is\",int(savings(gross_pay, tax_rate, expenses)))"
   ]
  },
  {
   "cell_type": "code",
   "execution_count": null,
   "id": "33bea017",
   "metadata": {},
   "outputs": [],
   "source": []
  }
 ],
 "metadata": {
  "kernelspec": {
   "display_name": "Python 3 (ipykernel)",
   "language": "python",
   "name": "python3"
  },
  "language_info": {
   "codemirror_mode": {
    "name": "ipython",
    "version": 3
   },
   "file_extension": ".py",
   "mimetype": "text/x-python",
   "name": "python",
   "nbconvert_exporter": "python",
   "pygments_lexer": "ipython3",
   "version": "3.9.12"
  }
 },
 "nbformat": 4,
 "nbformat_minor": 5
}
