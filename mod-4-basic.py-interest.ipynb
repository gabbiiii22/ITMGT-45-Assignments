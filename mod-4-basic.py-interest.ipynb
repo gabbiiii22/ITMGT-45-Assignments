{
 "cells": [
  {
   "cell_type": "markdown",
   "id": "4239a81e-004e-4dfa-82e9-13a250ea6954",
   "metadata": {},
   "source": [
    "def interest(principal, rate, periods):\n",
    "    '''Interest.\n",
    "    3 points.\n",
    "    This function calculates the final value of an investment after\n",
    "        gaining simple interest over a number of periods.\n",
    "    To calculate simple interest, simply multiply the principal to the quantity (rate * time). \n",
    "        Add this amount to the principal to get the final value.\n",
    "    Round down the final amount.\n",
    "    Parameters\n",
    "    ----------\n",
    "    principal: int\n",
    "        the principal (i.e., starting) amount invested, expressed in centavos\n",
    "    rate: float\n",
    "        the interest rate per period, expressed as a decimal representation of a percentage (e.g., 3% is 0.03)\n",
    "    periods: int\n",
    "        the number of periods invested\n",
    "    Returns\n",
    "    -------\n",
    "    int\n",
    "        the final value of the investment\n",
    "    '''\n",
    "    # Replace `pass` with your code. \n",
    "    # Stay within the function. Only use the parameters as input. The function should return your answer.\n",
    "    pass"
   ]
  },
  {
   "cell_type": "code",
   "execution_count": 30,
   "id": "0cdad60c-c7ca-40e8-9589-9cc6cadf4b77",
   "metadata": {},
   "outputs": [],
   "source": [
    "import math"
   ]
  },
  {
   "cell_type": "code",
   "execution_count": 31,
   "id": "886e66cd-5c96-4e95-b0ba-a9c76ccf5f06",
   "metadata": {},
   "outputs": [],
   "source": [
    "def interest(principal, rate, periods):\n",
    "    simple_interest = rate *periods * principal\n",
    "    return simple_interest + principal"
   ]
  },
  {
   "cell_type": "code",
   "execution_count": 32,
   "id": "724912dc-9fb0-4cf2-a8e4-b86e6da959e4",
   "metadata": {},
   "outputs": [
    {
     "name": "stdout",
     "output_type": "stream",
     "text": [
      "How much money did you invest, expressed in centavos? 100\n",
      "What is the interest rate per period? (e.g., 3% is 0.03) 0.03\n",
      "How many periods of time have you invested?2\n",
      "106\n"
     ]
    }
   ],
   "source": [
    "principal = int(input(\"How much money did you invest, expressed in centavos? \"))\n",
    "rate = float(input(\"What is the interest rate per period? (e.g., 3% is 0.03) \"))\n",
    "periods= int(input(\"How many periods of time have you invested?\" ))\n",
    "print(int(interest(principal, rate, periods)))"
   ]
  },
  {
   "cell_type": "code",
   "execution_count": null,
   "id": "0d4a907f-fffe-412e-9441-d5c143427751",
   "metadata": {},
   "outputs": [],
   "source": []
  }
 ],
 "metadata": {
  "kernelspec": {
   "display_name": "Python 3 (ipykernel)",
   "language": "python",
   "name": "python3"
  },
  "language_info": {
   "codemirror_mode": {
    "name": "ipython",
    "version": 3
   },
   "file_extension": ".py",
   "mimetype": "text/x-python",
   "name": "python",
   "nbconvert_exporter": "python",
   "pygments_lexer": "ipython3",
   "version": "3.9.12"
  }
 },
 "nbformat": 4,
 "nbformat_minor": 5
}
